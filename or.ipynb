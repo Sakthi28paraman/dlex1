{
 "cells": [
  {
   "cell_type": "code",
   "execution_count": 6,
   "metadata": {},
   "outputs": [],
   "source": [
    "# Implementation OR Problem\n",
    "\n",
    "import torch\n",
    "from torch.autograd import Variable"
   ]
  },
  {
   "cell_type": "code",
   "execution_count": 7,
   "metadata": {},
   "outputs": [
    {
     "data": {
      "text/plain": [
       "tensor([[0., 0.],\n",
       "        [0., 1.],\n",
       "        [1., 0.],\n",
       "        [1., 1.]], requires_grad=True)"
      ]
     },
     "execution_count": 7,
     "metadata": {},
     "output_type": "execute_result"
    }
   ],
   "source": [
    "x_arr = Variable(torch.Tensor([[0,0],[0,1],[1,0],[1,1]]),requires_grad=True)\n",
    "x_arr"
   ]
  },
  {
   "cell_type": "code",
   "execution_count": 8,
   "metadata": {},
   "outputs": [
    {
     "data": {
      "text/plain": [
       "tensor([[0.],\n",
       "        [1.],\n",
       "        [1.],\n",
       "        [1.]], requires_grad=True)"
      ]
     },
     "execution_count": 8,
     "metadata": {},
     "output_type": "execute_result"
    }
   ],
   "source": [
    "y_arr = Variable(torch.Tensor([[0],[1],[1],[1]]),requires_grad=True)\n",
    "y_arr"
   ]
  },
  {
   "cell_type": "code",
   "execution_count": 9,
   "metadata": {},
   "outputs": [],
   "source": [
    "class network():\n",
    "    def __init__(self):\n",
    "        self.w1=0\n",
    "        self.w2=0 \n",
    "        self.b=0\n",
    "        self.lr=0.01\n",
    "\n",
    "    def y_calc(self,X_arr,Y_arr):\n",
    "        self.sum=0\n",
    "        self.Y_arr = Y_arr\n",
    "        self.X_arr = X_arr\n",
    "        for i in range(0,len(self.X_arr)):\n",
    "            self.itr = i\n",
    "            self.sum = self.sum + (self.w1*self.X_arr[i][0]) + (self.w2*self.X_arr[i][1])\n",
    "            self.y_in = self.sum + self.b\n",
    "            self.activation()\n",
    "\n",
    "    def activation(self):\n",
    "        if(self.y_in > 0):\n",
    "            self.y = 1\n",
    "        else:\n",
    "            self.y = 0\n",
    "        self.match()\n",
    "\n",
    "    def match(self):\n",
    "        if(self.y!=self.Y_arr[self.itr]):\n",
    "            self.w1 = self.w1 + self.lr*(self.Y_arr[self.itr]-self.y)*self.X_arr[self.itr][0]\n",
    "            self.w2 = self.w2 + self.lr*(self.Y_arr[self.itr]-self.y)*self.X_arr[self.itr][1]\n",
    "            self.b = self.b + self.lr*(self.Y_arr[self.itr]-self.y)\n",
    "            self.display()\n",
    "\n",
    "    def display(self):\n",
    "        print(self.w1)\n",
    "        print(self.w2)\n",
    "\n",
    "    \n"
   ]
  },
  {
   "cell_type": "code",
   "execution_count": 10,
   "metadata": {},
   "outputs": [
    {
     "name": "stdout",
     "output_type": "stream",
     "text": [
      "tensor([0.], grad_fn=<AddBackward0>)\n",
      "tensor([0.0100], grad_fn=<AddBackward0>)\n"
     ]
    }
   ],
   "source": [
    "net = network()\n",
    "net.y_calc(x_arr,y_arr)"
   ]
  }
 ],
 "metadata": {
  "kernelspec": {
   "display_name": "Python 3",
   "language": "python",
   "name": "python3"
  },
  "language_info": {
   "codemirror_mode": {
    "name": "ipython",
    "version": 3
   },
   "file_extension": ".py",
   "mimetype": "text/x-python",
   "name": "python",
   "nbconvert_exporter": "python",
   "pygments_lexer": "ipython3",
   "version": "3.9.13"
  },
  "orig_nbformat": 4,
  "vscode": {
   "interpreter": {
    "hash": "25694d7b2adb1fe40569f6c189e5de2132c32375607d5b4ed547a0ba18b8b9da"
   }
  }
 },
 "nbformat": 4,
 "nbformat_minor": 2
}
