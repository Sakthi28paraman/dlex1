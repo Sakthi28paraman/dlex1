{
 "cells": [
  {
   "cell_type": "code",
   "execution_count": null,
   "metadata": {},
   "outputs": [],
   "source": [
    "# Implementation Of Regression\n",
    "\n",
    "import pandas as pd\n",
    "import torch \n",
    "import numpy as np\n",
    "import tensorflow as tf"
   ]
  },
  {
   "cell_type": "code",
   "execution_count": null,
   "metadata": {},
   "outputs": [],
   "source": [
    "iono = pd.read_csv(\"./ionosphere_csv.csv\")\n",
    "iono.head()"
   ]
  },
  {
   "cell_type": "code",
   "execution_count": 3,
   "metadata": {},
   "outputs": [
    {
     "name": "stdout",
     "output_type": "stream",
     "text": [
      "torch.Size([351, 34]) torch.Size([351])\n"
     ]
    }
   ],
   "source": [
    "X = torch.tensor(iono.drop(\"class\", axis=1).values, dtype=torch.float)\n",
    "Y = torch.tensor(\n",
    "    [0 if vty == \"a\" else 1 if vty == \"b\" else 2 if vty == \"c\" else 3 if vty == \"d\" else 4 if vty == \"e\" else 5 if vty == \"f\" else 6 for vty in iono[\"class\"]], \n",
    "    dtype=torch.long\n",
    ")\n",
    "\n",
    "print(X.shape,Y.shape)"
   ]
  },
  {
   "cell_type": "code",
   "execution_count": 4,
   "metadata": {},
   "outputs": [],
   "source": [
    "from sklearn.model_selection import train_test_split\n",
    "\n",
    "X_train, X_test, Y_train, Y_test = train_test_split(X, Y, train_size=0.8, random_state=42)"
   ]
  },
  {
   "cell_type": "code",
   "execution_count": 5,
   "metadata": {},
   "outputs": [
    {
     "name": "stdout",
     "output_type": "stream",
     "text": [
      "34\n"
     ]
    }
   ],
   "source": [
    "samples, features = X_train.shape\n",
    "print(features)"
   ]
  },
  {
   "cell_type": "code",
   "execution_count": null,
   "metadata": {},
   "outputs": [],
   "source": [
    "X_train = torch.tensor(X_train,dtype=float)\n",
    "X_test = torch.tensor(X_test,dtype=float)\n",
    "Y_train = torch.tensor(Y_train,dtype=float)\n",
    "Y_test = torch.tensor(Y_test,dtype=float)"
   ]
  },
  {
   "cell_type": "code",
   "execution_count": 7,
   "metadata": {},
   "outputs": [
    {
     "name": "stdout",
     "output_type": "stream",
     "text": [
      "torch.Size([280, 34]) torch.Size([71, 34]) torch.Size([280]) torch.Size([71])\n"
     ]
    }
   ],
   "source": [
    "print(X_train.shape,X_test.shape,Y_train.shape,Y_test.shape)"
   ]
  },
  {
   "cell_type": "code",
   "execution_count": 8,
   "metadata": {},
   "outputs": [],
   "source": [
    "from torch import nn\n",
    "\n",
    "class regression(nn.Module):\n",
    "    def __init__(self):\n",
    "        super(regression, self).__init__()\n",
    "        self.first_layer = nn.Linear(features,34)\n",
    "        self.second_layer = nn.Linear(34, 15)\n",
    "        self.final_layer = nn.Linear(15,1)\n",
    "        self.relu = nn.ReLU()\n",
    "\n",
    "    def forward(self,X_batch):\n",
    "        layer_out = self.relu(self.first_layer(X_batch))\n",
    "        layer_out = self.relu(self.second_layer(layer_out))\n",
    "        return self.final_layer(layer_out)"
   ]
  },
  {
   "cell_type": "code",
   "execution_count": 9,
   "metadata": {},
   "outputs": [
    {
     "data": {
      "text/plain": [
       "torch.float32"
      ]
     },
     "execution_count": 9,
     "metadata": {},
     "output_type": "execute_result"
    }
   ],
   "source": [
    "X_train = X_train.to(torch.float32)\n",
    "X_train.dtype"
   ]
  },
  {
   "cell_type": "code",
   "execution_count": 10,
   "metadata": {},
   "outputs": [
    {
     "name": "stdout",
     "output_type": "stream",
     "text": [
      "tensor([[-0.0032],\n",
      "        [-0.0777],\n",
      "        [-0.1087],\n",
      "        [-0.1122],\n",
      "        [-0.1199]], grad_fn=<AddmmBackward0>)\n"
     ]
    }
   ],
   "source": [
    "regressor = regression()\n",
    "preds = regressor(X_train[:5])\n",
    "print(preds)"
   ]
  },
  {
   "cell_type": "code",
   "execution_count": 11,
   "metadata": {},
   "outputs": [],
   "source": [
    "def TrainModel(model, loss_func, optimizer, X, Y, epochs=1000):\n",
    "    for i in range(epochs):\n",
    "        preds = model(X)\n",
    "        preds = preds.to(torch.float)\n",
    "        loss = loss_func(preds.ravel(), Y)\n",
    "        loss = loss.to(torch.float)\n",
    "        optimizer.zero_grad()\n",
    "        # loss.backward()\n",
    "        optimizer.step()\n",
    "        if i % 100 == 0:\n",
    "            print(\"MSE : {:.2f}\".format(loss))"
   ]
  },
  {
   "cell_type": "code",
   "execution_count": 12,
   "metadata": {},
   "outputs": [],
   "source": [
    "from torch.optim import SGD\n",
    "\n",
    "e = 1000\n",
    "learning_rate = torch.tensor(1/1e3)\n",
    "learning_rate = learning_rate.to(torch.float)\n",
    "\n",
    "regressor = regression()\n",
    "mse_loss = nn.MSELoss()\n",
    "optimizer = SGD(params=regressor.parameters(), lr=learning_rate)\n",
    "\n",
    "X_train = X_train.to(torch.float)\n",
    "Y_train = Y_train.to(torch.float)"
   ]
  },
  {
   "cell_type": "code",
   "execution_count": 13,
   "metadata": {},
   "outputs": [
    {
     "name": "stdout",
     "output_type": "stream",
     "text": [
      "MSE : 24.07\n",
      "MSE : 24.07\n",
      "MSE : 24.07\n",
      "MSE : 24.07\n",
      "MSE : 24.07\n",
      "MSE : 24.07\n",
      "MSE : 24.07\n",
      "MSE : 24.07\n",
      "MSE : 24.07\n",
      "MSE : 24.07\n"
     ]
    }
   ],
   "source": [
    "TrainModel(regressor, mse_loss, optimizer, X_train, Y_train, epochs = e)"
   ]
  },
  {
   "cell_type": "code",
   "execution_count": 14,
   "metadata": {},
   "outputs": [],
   "source": [
    "X_test = X_test.to(torch.float)"
   ]
  },
  {
   "cell_type": "code",
   "execution_count": 15,
   "metadata": {},
   "outputs": [
    {
     "data": {
      "text/plain": [
       "tensor([[-0.0324],\n",
       "        [-0.0468],\n",
       "        [-0.0422],\n",
       "        [-0.0554],\n",
       "        [-0.0188]], grad_fn=<SliceBackward0>)"
      ]
     },
     "execution_count": 15,
     "metadata": {},
     "output_type": "execute_result"
    }
   ],
   "source": [
    "train_preds = regressor(X_train)\n",
    "train_preds[:5]"
   ]
  },
  {
   "cell_type": "code",
   "execution_count": 16,
   "metadata": {},
   "outputs": [
    {
     "data": {
      "text/plain": [
       "tensor([[-0.0467],\n",
       "        [-0.0339],\n",
       "        [-0.0152],\n",
       "        [-0.0929],\n",
       "        [-0.0391]], grad_fn=<SliceBackward0>)"
      ]
     },
     "execution_count": 16,
     "metadata": {},
     "output_type": "execute_result"
    }
   ],
   "source": [
    "test_preds = regressor(X_test) \n",
    "test_preds[:5]"
   ]
  },
  {
   "cell_type": "markdown",
   "metadata": {},
   "source": []
  },
  {
   "cell_type": "code",
   "execution_count": 17,
   "metadata": {},
   "outputs": [
    {
     "name": "stdout",
     "output_type": "stream",
     "text": [
      "Train R^2 Score : -19571.92\n"
     ]
    }
   ],
   "source": [
    "from sklearn.metrics import r2_score\n",
    "\n",
    "print(\"Train R^2 Score : {:.2f}\".format(r2_score(train_preds.detach().numpy().squeeze(), Y_train.detach().numpy())))"
   ]
  }
 ],
 "metadata": {
  "kernelspec": {
   "display_name": "Python 3",
   "language": "python",
   "name": "python3"
  },
  "language_info": {
   "codemirror_mode": {
    "name": "ipython",
    "version": 3
   },
   "file_extension": ".py",
   "mimetype": "text/x-python",
   "name": "python",
   "nbconvert_exporter": "python",
   "pygments_lexer": "ipython3",
   "version": "3.8.10 (tags/v3.8.10:3d8993a, May  3 2021, 11:48:03) [MSC v.1928 64 bit (AMD64)]"
  },
  "orig_nbformat": 4,
  "vscode": {
   "interpreter": {
    "hash": "8a5edab282632443219e051e4ade2d1d5bbc671c781051bf1437897cbdfea0f1"
   }
  }
 },
 "nbformat": 4,
 "nbformat_minor": 2
}
