{
 "cells": [
  {
   "cell_type": "code",
   "execution_count": 1,
   "metadata": {},
   "outputs": [],
   "source": [
    "import torch"
   ]
  },
  {
   "cell_type": "code",
   "execution_count": 2,
   "metadata": {},
   "outputs": [],
   "source": [
    "Mat = torch.tensor([[2, 3], [1, 4]])"
   ]
  },
  {
   "cell_type": "code",
   "execution_count": 3,
   "metadata": {},
   "outputs": [
    {
     "name": "stdout",
     "output_type": "stream",
     "text": [
      "2\n"
     ]
    }
   ],
   "source": [
    "n = Mat.shape[0]\n",
    "print(n)"
   ]
  },
  {
   "cell_type": "code",
   "execution_count": 4,
   "metadata": {},
   "outputs": [],
   "source": [
    "import torch\n",
    "\n",
    "def determinant(matrix):\n",
    "    n = matrix.shape[0]\n",
    "    if n == 1:\n",
    "        return matrix[0, 0]\n",
    "    else:\n",
    "        det = 0\n",
    "        for i in range(n):\n",
    "            s_matrix = matrix[1:, [j for j in range(n) if j != i]]\n",
    "            det += (-1)**i * matrix[0, i] * determinant(s_matrix)\n",
    "        return det\n"
   ]
  },
  {
   "cell_type": "code",
   "execution_count": 5,
   "metadata": {},
   "outputs": [
    {
     "name": "stdout",
     "output_type": "stream",
     "text": [
      "tensor(-84.)\n",
      "tensor(-84.0000)\n"
     ]
    }
   ],
   "source": [
    "# Example usage         \n",
    "matrix = torch.tensor([[1., 2., 5.], [4., 8., 6.], [7., 8., 9.]])                                                \n",
    "det = determinant(matrix)                                  \n",
    "print(det)                                      \n",
    "                \n",
    "output=torch.det(matrix)                                     \n",
    "print(output)                         "
   ]
  },
  {
   "cell_type": "code",
   "execution_count": 6,
   "metadata": {},
   "outputs": [
    {
     "name": "stdout",
     "output_type": "stream",
     "text": [
      "[1]\n",
      "[0]\n"
     ]
    }
   ],
   "source": [
    "for i in range(2):\n",
    "   A=[j for j in range(2) if j != i]\n",
    "   print(A)                            "
   ]
  }
 ],
 "metadata": {
  "kernelspec": {
   "display_name": "Python 3",
   "language": "python",
   "name": "python3"
  },
  "language_info": {
   "codemirror_mode": {
    "name": "ipython",
    "version": 3
   },
   "file_extension": ".py",
   "mimetype": "text/x-python",
   "name": "python",
   "nbconvert_exporter": "python",
   "pygments_lexer": "ipython3",
   "version": "3.9.13 (tags/v3.9.13:6de2ca5, May 17 2022, 16:36:42) [MSC v.1929 64 bit (AMD64)]"
  },
  "orig_nbformat": 4,
  "vscode": {
   "interpreter": {
    "hash": "25694d7b2adb1fe40569f6c189e5de2132c32375607d5b4ed547a0ba18b8b9da"
   }
  }
 },
 "nbformat": 4,
 "nbformat_minor": 2
}
