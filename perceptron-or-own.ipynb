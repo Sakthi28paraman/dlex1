{
 "cells": [
  {
   "cell_type": "code",
   "execution_count": null,
   "metadata": {},
   "outputs": [],
   "source": [
    "# Implementation Of Perceptron Using Tensor For OR Gate\n",
    "\n",
    "import torch"
   ]
  },
  {
   "cell_type": "code",
   "execution_count": null,
   "metadata": {},
   "outputs": [],
   "source": [
    "input_mat = torch.tensor([[0,0],[0,1],[1,0],[1,1]],dtype=torch.int32)\n",
    "input_mat"
   ]
  },
  {
   "cell_type": "code",
   "execution_count": null,
   "metadata": {},
   "outputs": [],
   "source": [
    "target_mat = torch.tensor([[0],[1],[1],[1]],dtype=torch.int32)\n",
    "target_mat"
   ]
  },
  {
   "cell_type": "code",
   "execution_count": null,
   "metadata": {},
   "outputs": [],
   "source": [
    "w1 = 1\n",
    "w2 = -1\n",
    "b = 0\n",
    "a=1"
   ]
  },
  {
   "cell_type": "code",
   "execution_count": null,
   "metadata": {},
   "outputs": [],
   "source": [
    "for j in range(10):\n",
    "    for i in range(4):\n",
    "        yin = b+(w1*input_mat[i][0])+(w2*input_mat[i][1])\n",
    "        \n",
    "        if(yin>0):\n",
    "            y=1\n",
    "        elif(yin==0):\n",
    "            y=0\n",
    "        else:\n",
    "            yin=-1\n",
    "\n",
    "        if(y!=target_mat[i]):\n",
    "            w1 = w1+(a*target_mat[i]*input_mat[i][0])\n",
    "            w2 = w2+(a*target_mat[i]*input_mat[i][1])\n",
    "            b = b+(a*target_mat[i])\n",
    "\n",
    "        else:\n",
    "            w1 = w1\n",
    "            w2 = w2\n",
    "            b = b\n",
    "        print(\"Epoch = \",j,\"yin Value = \",yin,\"y value = \",y,\"Weights And Bias = \",w1,\" \",w2,\" \",b,\" \")"
   ]
  }
 ],
 "metadata": {
  "kernelspec": {
   "display_name": "Python 3",
   "language": "python",
   "name": "python3"
  },
  "language_info": {
   "codemirror_mode": {
    "name": "ipython",
    "version": 3
   },
   "file_extension": ".py",
   "mimetype": "text/x-python",
   "name": "python",
   "nbconvert_exporter": "python",
   "pygments_lexer": "ipython3",
   "version": "3.8.10 (tags/v3.8.10:3d8993a, May  3 2021, 11:48:03) [MSC v.1928 64 bit (AMD64)]"
  },
  "orig_nbformat": 4,
  "vscode": {
   "interpreter": {
    "hash": "618f2e2b772838f75e5c01a97852e682d6b539044a384bb98febe15f1dfd79d8"
   }
  }
 },
 "nbformat": 4,
 "nbformat_minor": 2
}
