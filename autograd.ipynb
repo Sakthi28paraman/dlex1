{
 "cells": [
  {
   "cell_type": "code",
   "execution_count": 1,
   "metadata": {},
   "outputs": [],
   "source": [
    "# Simple Autograd Implementation\n",
    "\n",
    "import torch\n",
    "from torch.autograd import Variable"
   ]
  },
  {
   "cell_type": "code",
   "execution_count": 2,
   "metadata": {},
   "outputs": [
    {
     "name": "stdout",
     "output_type": "stream",
     "text": [
      "tensor([[5., 4.],\n",
      "        [7., 6.]], requires_grad=True)\n"
     ]
    }
   ],
   "source": [
    "\n",
    "mat1 = Variable(torch.Tensor([[5,4],[7,6]]),requires_grad=True)\n",
    "print(mat1)"
   ]
  },
  {
   "cell_type": "code",
   "execution_count": 3,
   "metadata": {},
   "outputs": [
    {
     "name": "stdout",
     "output_type": "stream",
     "text": [
      "tensor([[3., 1.],\n",
      "        [7., 9.]], requires_grad=True)\n"
     ]
    }
   ],
   "source": [
    "mat2 = Variable(torch.Tensor([[3,1],[7,9]]),requires_grad=True)\n",
    "print(mat2)"
   ]
  },
  {
   "cell_type": "code",
   "execution_count": 4,
   "metadata": {},
   "outputs": [
    {
     "name": "stdout",
     "output_type": "stream",
     "text": [
      "tensor(10901368., grad_fn=<SumBackward0>)\n"
     ]
    }
   ],
   "source": [
    "# Matrix Squared To Another Matrix\n",
    "\n",
    "output_pred = torch.sum(mat1**mat2)\n",
    "print(output_pred)\n"
   ]
  },
  {
   "cell_type": "code",
   "execution_count": 5,
   "metadata": {},
   "outputs": [],
   "source": [
    "output_pred.backward()"
   ]
  },
  {
   "cell_type": "code",
   "execution_count": 6,
   "metadata": {},
   "outputs": [],
   "source": [
    "# Quadratic Equation\n",
    "\n",
    "x = torch.tensor(7., requires_grad = False)\n",
    "w = torch.tensor(5., requires_grad = True)\n",
    "b = torch.tensor(2., requires_grad = True)"
   ]
  },
  {
   "cell_type": "code",
   "execution_count": 7,
   "metadata": {},
   "outputs": [
    {
     "name": "stdout",
     "output_type": "stream",
     "text": [
      "tensor(7.)\n",
      "tensor(5., requires_grad=True)\n",
      "tensor(2., requires_grad=True)\n"
     ]
    }
   ],
   "source": [
    "print(x)\n",
    "print(w)\n",
    "print(b)"
   ]
  },
  {
   "cell_type": "code",
   "execution_count": 8,
   "metadata": {},
   "outputs": [
    {
     "name": "stdout",
     "output_type": "stream",
     "text": [
      "tensor(74., grad_fn=<AddBackward0>)\n"
     ]
    }
   ],
   "source": [
    "y = w**2 + x**b\n",
    "print(y)"
   ]
  },
  {
   "cell_type": "code",
   "execution_count": 9,
   "metadata": {},
   "outputs": [],
   "source": [
    "y.backward()"
   ]
  }
 ],
 "metadata": {
  "kernelspec": {
   "display_name": "Python 3",
   "language": "python",
   "name": "python3"
  },
  "language_info": {
   "codemirror_mode": {
    "name": "ipython",
    "version": 3
   },
   "file_extension": ".py",
   "mimetype": "text/x-python",
   "name": "python",
   "nbconvert_exporter": "python",
   "pygments_lexer": "ipython3",
   "version": "3.9.13"
  },
  "orig_nbformat": 4,
  "vscode": {
   "interpreter": {
    "hash": "25694d7b2adb1fe40569f6c189e5de2132c32375607d5b4ed547a0ba18b8b9da"
   }
  }
 },
 "nbformat": 4,
 "nbformat_minor": 2
}
